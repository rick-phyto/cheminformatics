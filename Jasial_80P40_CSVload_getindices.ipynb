{
  "nbformat": 4,
  "nbformat_minor": 0,
  "metadata": {
    "colab": {
      "provenance": [],
      "authorship_tag": "ABX9TyMTx6BIQox+AHsEGgY08jAg",
      "include_colab_link": true
    },
    "kernelspec": {
      "name": "python3",
      "display_name": "Python 3"
    },
    "language_info": {
      "name": "python"
    }
  },
  "cells": [
    {
      "cell_type": "markdown",
      "metadata": {
        "id": "view-in-github",
        "colab_type": "text"
      },
      "source": [
        "<a href=\"https://colab.research.google.com/github/rick-phyto/cheminformatics/blob/main/Jasial_80P40_CSVload_getindices.ipynb\" target=\"_parent\"><img src=\"https://colab.research.google.com/assets/colab-badge.svg\" alt=\"Open In Colab\"/></a>"
      ]
    },
    {
      "cell_type": "code",
      "execution_count": null,
      "metadata": {
        "id": "6hyo87OmacJK",
        "colab": {
          "base_uri": "https://localhost:8080/"
        },
        "outputId": "36af314f-336d-4c05-fe8d-cbca183068c1"
      },
      "outputs": [
        {
          "output_type": "stream",
          "name": "stdout",
          "text": [
            "Mounted at /content/gdrive\n"
          ]
        }
      ],
      "source": [
        "#from google.colab import auth #gsheets\n",
        "#import gspread #gsheets\n",
        "#from google.auth import default #gsheets\n",
        "#autenticating to google #gsheets\n",
        "#auth.authenticate_user() #gsheets\n",
        "#creds, _ = default() #gsheets\n",
        "#gc = gspread.authorize(creds) #gsheets\n",
        "\n",
        "from google.colab import drive #new for csv\n",
        "drive.mount('/content/gdrive') #new for csv\n",
        "\n",
        "\n",
        "import pandas as pd"
      ]
    },
    {
      "cell_type": "code",
      "source": [
        "# Install RDKit.\n",
        "%%capture\n",
        "!pip install rdkit"
      ],
      "metadata": {
        "id": "eXKxrQ3BxFzH"
      },
      "execution_count": null,
      "outputs": []
    },
    {
      "cell_type": "code",
      "source": [
        "from rdkit import Chem\n",
        "from rdkit.Chem import Draw\n",
        "from rdkit.Chem.Draw import IPythonConsole\n",
        "from rdkit.Chem import Descriptors\n",
        "from rdkit.Chem import AllChem\n",
        "from rdkit import DataStructs\n",
        "import numpy as np\n",
        "\n",
        "import requests\n",
        "from bs4 import BeautifulSoup\n",
        "import re"
      ],
      "metadata": {
        "id": "9q2T29M5sx91"
      },
      "execution_count": null,
      "outputs": []
    },
    {
      "cell_type": "code",
      "source": [
        "#works\n",
        "#something=pd.read_csv('gdrive/My Drive/Colab Notebooks/pubchemtest_for_csv.csv')\n",
        "#something=pd.read_csv('gdrive/My Drive/Colab Notebooks/for gcolab with_percentiles_csv_437k_bajorath_greater_40C_only_392269.csv') #some NaNs in here\n",
        "something=pd.read_csv('gdrive/My Drive/Colab Notebooks/Copy of bajorath 437000 80P_40C 345208.csv') #looks cleaner based on head-tail.\n",
        "something.head\n",
        "#worksheet = gc.open('onetwothree').sheet1\n",
        "#worksheet\n"
      ],
      "metadata": {
        "id": "u0wHfv6mbp3s"
      },
      "execution_count": null,
      "outputs": []
    },
    {
      "cell_type": "code",
      "source": [
        "something.shape"
      ],
      "metadata": {
        "colab": {
          "base_uri": "https://localhost:8080/"
        },
        "id": "mRNYnPcyzZC7",
        "outputId": "7e84f2ec-a113-4c1c-9d10-afd862a59a36"
      },
      "execution_count": null,
      "outputs": [
        {
          "output_type": "execute_result",
          "data": {
            "text/plain": [
              "(345207, 11)"
            ]
          },
          "metadata": {},
          "execution_count": 29
        }
      ]
    },
    {
      "cell_type": "code",
      "source": [
        "something.head"
      ],
      "metadata": {
        "id": "fQxNNe-X5OGe",
        "outputId": "54469c91-c856-4f75-d914-dc7f6ee3bb8f",
        "colab": {
          "base_uri": "https://localhost:8080/"
        }
      },
      "execution_count": null,
      "outputs": [
        {
          "output_type": "execute_result",
          "data": {
            "text/plain": [
              "<bound method NDFrame.head of              cid  #PrimaryAssays  AssayPromiscuity_Primary  APP %  \\\n",
              "0              6             292                        13  4.50%   \n",
              "1             19             317                         0  0.00%   \n",
              "2             40             190                         0  0.00%   \n",
              "3             72             383                         5  1.30%   \n",
              "4             86             345                        14  4.10%   \n",
              "...          ...             ...                       ...    ...   \n",
              "345202  56642970             430                         3  0.70%   \n",
              "345203  56642971             313                         6  1.90%   \n",
              "345204  56643184             282                         3  1.10%   \n",
              "345205  56643185             283                         4  1.40%   \n",
              "345206  56643186             277                         5  1.80%   \n",
              "\n",
              "        TargetPromiscuity_Primary  TPP %  #ConfirmatoryAssays  \\\n",
              "0                               9  3.10%                   92   \n",
              "1                               0  0.00%                   52   \n",
              "2                               0  0.00%                   53   \n",
              "3                               4  1.00%                  133   \n",
              "4                              10  2.90%                   65   \n",
              "...                           ...    ...                  ...   \n",
              "345202                          1  0.20%                  104   \n",
              "345203                          6  1.90%                   84   \n",
              "345204                          2  0.70%                   75   \n",
              "345205                          3  1.10%                   75   \n",
              "345206                          3  1.10%                   74   \n",
              "\n",
              "        AssayPromiscuity_Confirmatory   APC %  TargetPromiscuity_Confirmatory  \\\n",
              "0                                  18  19.60%                              16   \n",
              "1                                   0   0.00%                               0   \n",
              "2                                   0   0.00%                               0   \n",
              "3                                   3   2.30%                               3   \n",
              "4                                  10  15.40%                               8   \n",
              "...                               ...     ...                             ...   \n",
              "345202                              0   0.00%                               0   \n",
              "345203                             11  13.10%                              10   \n",
              "345204                              0   0.00%                               0   \n",
              "345205                              0   0.00%                               0   \n",
              "345206                              0   0.00%                               0   \n",
              "\n",
              "         TPC %  \n",
              "0       17.40%  \n",
              "1        0.00%  \n",
              "2        0.00%  \n",
              "3        2.30%  \n",
              "4       12.30%  \n",
              "...        ...  \n",
              "345202   0.00%  \n",
              "345203  11.90%  \n",
              "345204   0.00%  \n",
              "345205   0.00%  \n",
              "345206   0.00%  \n",
              "\n",
              "[345207 rows x 11 columns]>"
            ]
          },
          "metadata": {},
          "execution_count": 30
        }
      ]
    },
    {
      "cell_type": "code",
      "source": [
        "#rows = worksheet.get_all_values()\n"
      ],
      "metadata": {
        "id": "j5RXNYWzgHVI"
      },
      "execution_count": null,
      "outputs": []
    },
    {
      "cell_type": "code",
      "source": [
        "#something = pd.DataFrame.from_records(rows)\n",
        "#something"
      ],
      "metadata": {
        "id": "3mVKmq49EEXU"
      },
      "execution_count": null,
      "outputs": []
    },
    {
      "cell_type": "code",
      "source": [
        "#something.loc[:,0]\n",
        "#something"
      ],
      "metadata": {
        "id": "o4Lhdm6TqKAk"
      },
      "execution_count": null,
      "outputs": []
    },
    {
      "cell_type": "code",
      "source": [
        "#cids = something.loc[:,0].tolist()\n",
        "cids = something['cid'].tolist() \n",
        "#cids[392240:392259] #that's rather convenient - the CIDs in the 80P-40C set top out at just under 57,000,000 :) Maybe an selection-result of what researchers assay with high prevalence. Even the 40C only list just has a handful of 73,000,000's at the very end\n",
        "#df.to_csv('file.csv', index=False)\n",
        "didthiswork = something.to_csv('gdrive/My Drive/Colab Notebooks/JasialToPubchem-indices.csv',columns=[\"cid\"], index=False) \n",
        "#print(didthiswork) #seems to work even tho this line is useless"
      ],
      "metadata": {
        "colab": {
          "base_uri": "https://localhost:8080/"
        },
        "id": "LqfsamfesN29",
        "outputId": "e28f06c7-29c2-4680-be4b-5ccaef819526"
      },
      "execution_count": null,
      "outputs": [
        {
          "output_type": "stream",
          "name": "stdout",
          "text": [
            "None\n"
          ]
        }
      ]
    },
    {
      "cell_type": "code",
      "source": [
        "#using full pubchem xml / beautifulsoup approach - works\n",
        "for cid in cids:\n",
        "  #a_get_string = \"https://pubchem.ncbi.nlm.nih.gov/rest/pug/compound/cid/\" + cid + \"/xml\"\n",
        "  a_get_string = \"https://pubchem.ncbi.nlm.nih.gov/rest/pug/compound/cid/\" + str(cid) + \"/xml\" #works\n",
        "  data = requests.get(a_get_string) #10621 hesperidin\n",
        "  #data = requests.get(\"https://pubchem.ncbi.nlm.nih.gov/rest/pug/compound/cid/\" + cid + \"/xml\") #10621 hesperidin\n",
        "  #print(data)\n",
        "  html = BeautifulSoup(data.content, \"xml\")\n",
        "  html.find_all(\"PC-Urn_label\")\n",
        "  smiles_tag = html.find(name=\"PC-Urn_label\", string=\"SMILES\")\n",
        "  smiles_parents = smiles_tag.find_parent(\"PC-InfoData\")\n",
        "  smiles = smiles_parents.find('PC-InfoData_value_sval').string\n",
        "  #print(smiles)\n",
        "  chemical_mol = Chem.MolFromSmiles(smiles)\n",
        "  Number_of_phenols = Chem.Fragments.fr_phenol(chemical_mol)\n",
        "  #Number_of_phenols_list[cid-1] = int(Chem.Fragments.fr_phenol(chemical_mol))\n",
        "  #print(Number_of_phenols_list)\n",
        "  print(Number_of_phenols)"
      ],
      "metadata": {
        "id": "hlpliIyutSc3"
      },
      "execution_count": null,
      "outputs": []
    },
    {
      "cell_type": "code",
      "source": [
        "#using just pubchem smiles txt reponse query - works\n",
        "for cid in cids:\n",
        "  #a_get_string = \"https://pubchem.ncbi.nlm.nih.gov/rest/pug/compound/cid/\" + cid + \"/xml\"\n",
        "  #a_get_string = \"https://pubchem.ncbi.nlm.nih.gov/rest/pug/compound/cid/\" + str(cid) + \"/xml\" #works\n",
        "  a_get_string = \"https://pubchem.ncbi.nlm.nih.gov/rest/pug/compound/cid/\" + str(cid) + \"/property/CanonicalSmiles/txt\"\n",
        "  data = requests.get(a_get_string) #10621 hesperidin\n",
        "  #data.content\n",
        "  out_smiles_string_b = data.content[0:(-1+len(data.content))] #remove newline \n",
        "  #out_smiles_string_b\n",
        "  out_smiles = out_smiles_string_b.decode('ASCII') #remove 'b'\n",
        "  #out_smiles\n",
        "  #data = requests.get(\"https://pubchem.ncbi.nlm.nih.gov/rest/pug/compound/cid/\" + cid + \"/xml\") #10621 hesperidin\n",
        "  #print(data)\n",
        "  #html = BeautifulSoup(data.content, \"xml\")\n",
        "  #html.find_all(\"PC-Urn_label\")\n",
        "  #smiles_tag = html.find(name=\"PC-Urn_label\", string=\"SMILES\")\n",
        "  #smiles_parents = smiles_tag.find_parent(\"PC-InfoData\")\n",
        "  #smiles = smiles_parents.find('PC-InfoData_value_sval').string\n",
        "  smiles = out_smiles\n",
        "  #print(smiles)\n",
        "  chemical_mol = Chem.MolFromSmiles(smiles)\n",
        "  Number_of_phenols = Chem.Fragments.fr_phenol(chemical_mol)\n",
        "  #Number_of_phenols_list[cid-1] = int(Chem.Fragments.fr_phenol(chemical_mol))\n",
        "  #print(Number_of_phenols_list)\n",
        "  print(Number_of_phenols)"
      ],
      "metadata": {
        "colab": {
          "base_uri": "https://localhost:8080/"
        },
        "id": "vyngSNK6eclA",
        "outputId": "498155ed-77ad-4414-ee08-82b4ce7374ad"
      },
      "execution_count": null,
      "outputs": [
        {
          "output_type": "stream",
          "name": "stdout",
          "text": [
            "3\n",
            "3\n",
            "12\n",
            "11\n",
            "5\n",
            "3\n",
            "0\n",
            "3\n",
            "25\n",
            "2\n",
            "2\n",
            "2\n",
            "2\n",
            "1\n",
            "2\n",
            "6\n",
            "5\n",
            "2\n",
            "5\n",
            "2\n",
            "4\n",
            "0\n",
            "0\n",
            "9\n",
            "3\n",
            "5\n",
            "0\n",
            "2\n",
            "4\n",
            "1\n",
            "8\n",
            "3\n",
            "1\n",
            "8\n",
            "3\n",
            "3\n",
            "8\n",
            "2\n",
            "2\n",
            "3\n",
            "0\n",
            "2\n",
            "4\n",
            "2\n",
            "0\n",
            "15\n",
            "8\n",
            "2\n",
            "15\n",
            "3\n",
            "2\n",
            "2\n",
            "3\n",
            "1\n",
            "0\n",
            "0\n",
            "3\n",
            "0\n",
            "3\n",
            "0\n",
            "2\n",
            "5\n",
            "3\n",
            "3\n",
            "4\n",
            "6\n",
            "0\n",
            "2\n",
            "4\n",
            "4\n",
            "3\n",
            "3\n",
            "1\n",
            "0\n",
            "1\n",
            "5\n",
            "2\n",
            "4\n",
            "3\n",
            "3\n",
            "4\n",
            "0\n",
            "0\n",
            "0\n",
            "2\n",
            "2\n",
            "9\n",
            "0\n",
            "1\n",
            "4\n",
            "3\n",
            "3\n",
            "5\n",
            "2\n",
            "2\n",
            "4\n",
            "4\n",
            "4\n",
            "1\n",
            "4\n",
            "4\n",
            "3\n",
            "4\n",
            "0\n",
            "3\n",
            "3\n",
            "4\n",
            "4\n",
            "3\n",
            "2\n",
            "2\n",
            "3\n",
            "2\n",
            "3\n",
            "4\n",
            "2\n",
            "3\n",
            "0\n",
            "2\n",
            "0\n",
            "2\n",
            "3\n",
            "2\n",
            "0\n",
            "3\n",
            "2\n",
            "5\n",
            "3\n",
            "0\n",
            "2\n",
            "4\n",
            "0\n",
            "10\n",
            "2\n",
            "3\n",
            "4\n",
            "0\n",
            "0\n",
            "1\n",
            "0\n",
            "0\n",
            "2\n",
            "0\n",
            "2\n",
            "4\n",
            "2\n",
            "1\n",
            "2\n",
            "1\n",
            "0\n",
            "0\n",
            "2\n",
            "2\n",
            "1\n",
            "1\n",
            "3\n",
            "2\n",
            "2\n",
            "4\n",
            "0\n",
            "2\n",
            "3\n",
            "2\n",
            "2\n",
            "1\n",
            "1\n",
            "0\n",
            "2\n",
            "4\n",
            "1\n",
            "0\n",
            "0\n",
            "1\n",
            "2\n",
            "2\n",
            "1\n",
            "0\n",
            "0\n",
            "2\n",
            "2\n",
            "2\n",
            "4\n",
            "0\n",
            "2\n",
            "2\n",
            "1\n",
            "2\n",
            "2\n",
            "0\n",
            "2\n",
            "2\n",
            "2\n",
            "0\n",
            "0\n",
            "0\n",
            "0\n",
            "2\n",
            "2\n",
            "2\n",
            "1\n",
            "3\n",
            "0\n",
            "3\n",
            "0\n",
            "2\n",
            "1\n",
            "2\n",
            "0\n",
            "2\n",
            "0\n",
            "0\n",
            "2\n",
            "0\n",
            "2\n",
            "0\n",
            "2\n",
            "0\n",
            "2\n",
            "0\n",
            "0\n",
            "0\n",
            "2\n",
            "0\n",
            "0\n",
            "0\n",
            "0\n",
            "0\n",
            "0\n",
            "0\n",
            "1\n",
            "0\n",
            "1\n",
            "0\n",
            "1\n",
            "0\n",
            "0\n",
            "1\n",
            "0\n",
            "1\n",
            "1\n",
            "0\n",
            "1\n",
            "0\n",
            "3\n",
            "0\n",
            "0\n",
            "2\n",
            "0\n",
            "1\n",
            "0\n",
            "0\n",
            "0\n",
            "0\n",
            "0\n",
            "1\n",
            "0\n",
            "0\n",
            "0\n",
            "0\n",
            "0\n",
            "0\n",
            "3\n",
            "3\n",
            "3\n",
            "4\n",
            "2\n",
            "4\n",
            "1\n",
            "2\n",
            "2\n",
            "2\n",
            "0\n"
          ]
        }
      ]
    },
    {
      "cell_type": "code",
      "source": [
        "#quickcheck - deleteme \n",
        "cyclohexanol_smiles = 'C1=CC=C(C=C1)O' #phenol # 'C1CCC(CC1)O' #cyclohexanol\n",
        "cyclohexanol_mol = Chem.MolFromSmiles(cyclohexanol_smiles)\n",
        "Number_of_phenols_ch = Chem.Fragments.fr_phenol(cyclohexanol_mol)\n",
        "print(Number_of_phenols_ch)"
      ],
      "metadata": {
        "colab": {
          "base_uri": "https://localhost:8080/"
        },
        "id": "WyuxQGq5i0oj",
        "outputId": "747fd70f-6b49-4d78-e3f9-44c699fd6cad"
      },
      "execution_count": null,
      "outputs": [
        {
          "output_type": "stream",
          "name": "stdout",
          "text": [
            "1\n"
          ]
        }
      ]
    }
  ]
}