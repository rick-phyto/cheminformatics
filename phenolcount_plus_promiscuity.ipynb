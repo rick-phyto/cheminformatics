{
  "nbformat": 4,
  "nbformat_minor": 0,
  "metadata": {
    "colab": {
      "provenance": [],
      "authorship_tag": "ABX9TyP5uVeA4wjXHReBV2XH0G/q",
      "include_colab_link": true
    },
    "kernelspec": {
      "name": "python3",
      "display_name": "Python 3"
    },
    "language_info": {
      "name": "python"
    }
  },
  "cells": [
    {
      "cell_type": "markdown",
      "metadata": {
        "id": "view-in-github",
        "colab_type": "text"
      },
      "source": [
        "<a href=\"https://colab.research.google.com/github/rick-phyto/cheminformatics/blob/main/phenolcount_plus_promiscuity.ipynb\" target=\"_parent\"><img src=\"https://colab.research.google.com/assets/colab-badge.svg\" alt=\"Open In Colab\"/></a>"
      ]
    },
    {
      "cell_type": "code",
      "source": [
        "\n",
        "from google.colab import drive #new for csv\n",
        "drive.mount('/content/gdrive') #new for csv\n",
        "\n",
        "\n",
        "import pandas as pd\n",
        "\n",
        "!pip install rdkit\n",
        "\n",
        "from rdkit import Chem\n",
        "from rdkit.Chem import Draw\n",
        "from rdkit.Chem.Draw import IPythonConsole\n",
        "from rdkit.Chem import Descriptors\n",
        "from rdkit.Chem import AllChem\n",
        "from rdkit import DataStructs\n",
        "import numpy as np\n",
        "\n",
        "#import requests\n",
        "#from bs4 import BeautifulSoup #no longer necessary since we aren't parsing xml\n",
        "#import re"
      ],
      "metadata": {
        "id": "mycRq_J_tNcV"
      },
      "execution_count": null,
      "outputs": []
    },
    {
      "cell_type": "code",
      "source": [
        "#these are sorted lists with no duplicates - try a binary search from python recipes\n",
        "\n",
        "def binarySearch(alist, item):\n",
        "    first = 0\n",
        "    last = len(alist)-1\n",
        "    found = False\n",
        "\n",
        "    while first<=last and not found:\n",
        "        pos = 0\n",
        "        midpoint = (first + last)//2\n",
        "        if alist[midpoint] == item:\n",
        "            pos = midpoint\n",
        "            found = True\n",
        "        else:\n",
        "            if item < alist[midpoint]:\n",
        "                last = midpoint-1\n",
        "            else:\n",
        "                first = midpoint+1\n",
        "    return (pos, found)"
      ],
      "metadata": {
        "id": "-IJ32ssntQwr"
      },
      "execution_count": null,
      "outputs": []
    },
    {
      "cell_type": "code",
      "execution_count": null,
      "metadata": {
        "id": "FJBxqZ8jrj5I"
      },
      "outputs": [],
      "source": [
        "#put phenolcount csv together with promiscuity csv\n",
        "\n",
        "\n",
        "#5500 compounds approx\n",
        "phenolcount_Jasial=pd.read_csv('gdrive/My Drive/Colab Notebooks/cids_phenolcount.csv')\n",
        "\n",
        "#345000 compounds approx.\n",
        "promiscuity_Jasial=pd.read_csv('gdrive/My Drive/Colab Notebooks/Copy of bajorath 437000 80P_40C 345208.csv')\n",
        "\n",
        "\n"
      ]
    },
    {
      "cell_type": "code",
      "source": [
        "phenolcount_Jasial"
      ],
      "metadata": {
        "id": "r3zjGCRguBKX"
      },
      "execution_count": null,
      "outputs": []
    },
    {
      "cell_type": "code",
      "source": [
        "promiscuity_Jasial.head"
      ],
      "metadata": {
        "id": "U6E_rIKHuq6U"
      },
      "execution_count": null,
      "outputs": []
    },
    {
      "cell_type": "code",
      "source": [
        "#Promiscuity csv header\n",
        "# #PrimaryAssays  AssayPromiscuity_Primary  APP % TargetPromiscuity_Primary  TPP %  #ConfirmatoryAssays  AssayPromiscuity_Confirmatory   APC %  TargetPromiscuity_Confirmatory  TPC %"
      ],
      "metadata": {
        "id": "82JGVfmPweHg"
      },
      "execution_count": null,
      "outputs": []
    },
    {
      "cell_type": "code",
      "source": [
        "for col in promiscuity_Jasial.columns:\n",
        "    print(col)"
      ],
      "metadata": {
        "colab": {
          "base_uri": "https://localhost:8080/"
        },
        "id": "V46LOLUDxjmL",
        "outputId": "d1b6ce16-6ee4-45dd-e506-af9871d05e44"
      },
      "execution_count": null,
      "outputs": [
        {
          "output_type": "stream",
          "name": "stdout",
          "text": [
            "cid\n",
            "#PrimaryAssays\n",
            "AssayPromiscuity_Primary\n",
            "APP %\n",
            "TargetPromiscuity_Primary\n",
            "TPP %\n",
            "#ConfirmatoryAssays\n",
            "AssayPromiscuity_Confirmatory\n",
            "APC %\n",
            "TargetPromiscuity_Confirmatory\n",
            "TPC %\n"
          ]
        }
      ]
    },
    {
      "cell_type": "code",
      "source": [
        "arfarf=[]\n",
        "arfarf.append(promiscuity_Jasial['#PrimaryAssays'].iloc[4])\n",
        "print(arfarf)"
      ],
      "metadata": {
        "colab": {
          "base_uri": "https://localhost:8080/"
        },
        "id": "hgOB42mwXuGD",
        "outputId": "caad00fa-cb3e-403d-d399-cbf500cc18b6"
      },
      "execution_count": 56,
      "outputs": [
        {
          "output_type": "stream",
          "name": "stdout",
          "text": [
            "[345]\n"
          ]
        }
      ]
    },
    {
      "cell_type": "code",
      "source": [
        "NumPrimaryAssays = []\n",
        "AssayPromiscuityPrimary = []\n",
        "APPpercentage = []\n",
        "TargetPromiscuityPrimary = []\n",
        "TPPpercentage = []\n",
        "NumConfirmatoryAssays = []\n",
        "AssayPromiscuityConfirmatory = []\n",
        "APCpercentage = []\n",
        "TargetPromiscuityConfirmatory = []\n",
        "TPCpercentage = []\n",
        "phenolcount_Jasial_CID_list = phenolcount_Jasial['CID'].tolist()\n",
        "#promiscuity_Jasial_NumPrimaryAssays_list = promiscuity_Jasial['#PrimaryAssays'].tolist()\n",
        "#promiscuity_Jasial_AssayPromiscuityPrimary_list = promiscuity_Jasial['AssayPromiscuity_Primary'].tolist()\n",
        "#promiscuity_Jasial_APPpercentage_list = promiscuity_Jasial['APP %'].tolist()\n",
        "#promiscuity_Jasial_TargetPromiscuityPrimary_list = promiscuity_Jasial['TargetPromiscuity_Primary'].tolist()\n",
        "#promiscuity_Jasial_TPPpercentage_list = promiscuity_Jasial['TPP %'].tolist()\n",
        "#promiscuity_Jasial_NumConfirmatoryAssays_list = promiscuity_Jasial['#ConfirmatoryAssays'].tolist()\n",
        "#promiscuity_Jasial_AssayPromiscuityConfirmatory_list = promiscuity_Jasial['AssayPromiscuity_Confirmatory'].tolist()\n",
        "#promiscuity_Jasial_APCpercentage_list = promiscuity_Jasial['APC %'].tolist()\n",
        "#promiscuity_Jasial_TargetPromiscuityConfirmatory_list = promiscuity_Jasial['TargetPromiscuity_Confirmatory'].tolist()\n",
        "#promiscuity_Jasial_TPCpercentage_list = promiscuity_Jasial['TPC %'].tolist()\n",
        "for iterator in (phenolcount_Jasial_CID_list):\n",
        "    outtest = binarySearch(promiscuity_Jasial_cid_list,iterator)\n",
        "    if(outtest[1]):\n",
        "      #oof.append(outtest[0])\n",
        "      #print(type(outtest[0]))\n",
        "      #NumPrimaryAssays.append(promiscuity_Jasial_NumPrimaryAssays_list[outtest[0]])  #['#PrimaryAssays'].iloc\n",
        "      NumPrimaryAssays.append(promiscuity_Jasial['#PrimaryAssays'].iloc[outtest[0]])\n",
        "      AssayPromiscuityPrimary.append(promiscuity_Jasial['AssayPromiscuity_Primary'].iloc[outtest[0]])\n",
        "      APPpercentage.append(promiscuity_Jasial['APP %'].iloc[outtest[0]])\n",
        "      TargetPromiscuityPrimary.append(promiscuity_Jasial['TargetPromiscuity_Primary'].iloc[outtest[0]])\n",
        "      TPPpercentage.append(promiscuity_Jasial['TPP %'].iloc[outtest[0]])\n",
        "\n",
        "      NumConfirmatoryAssays.append(promiscuity_Jasial['#ConfirmatoryAssays'].iloc[outtest[0]])\n",
        "      AssayPromiscuityConfirmatory.append(promiscuity_Jasial['AssayPromiscuity_Confirmatory'].iloc[outtest[0]])\n",
        "      APCpercentage.append(promiscuity_Jasial['APC %'].iloc[outtest[0]])\n",
        "      TargetPromiscuityConfirmatory.append(promiscuity_Jasial['TargetPromiscuity_Confirmatory'].iloc[outtest[0]])\n",
        "      TPCpercentage.append(promiscuity_Jasial['TPC %'].iloc[outtest[0]])\n",
        "len(AssayPromiscuityConfirmatory)\n",
        "\n"
      ],
      "metadata": {
        "id": "mpYt81E1tqF7",
        "colab": {
          "base_uri": "https://localhost:8080/"
        },
        "outputId": "22a1c474-15fb-47ff-8156-2030c8308b25"
      },
      "execution_count": 69,
      "outputs": [
        {
          "output_type": "execute_result",
          "data": {
            "text/plain": [
              "5521"
            ]
          },
          "metadata": {},
          "execution_count": 69
        }
      ]
    },
    {
      "cell_type": "code",
      "source": [
        "#collated_csvprep = pd.DataFrame(phenolcount_Jasial_CID_list)\n",
        "new_columns = ['CID', '#PrimaryAssays',  'AssayPromiscuity_Primary',  'APP %', 'TargetPromiscuity_Primary',  'TPP %',  '#ConfirmatoryAssays',  'AssayPromiscuity_Confirmatory',   'APC %',  'TargetPromiscuity_Confirmatory',  'TPC %', 'PhenolCount']\n",
        "collated_csvprep = pd.DataFrame(columns = new_columns)\n",
        "collated_csvprep['CID'] = phenolcount_Jasial_CID_list\n",
        "collated_csvprep['#PrimaryAssays'] =  NumPrimaryAssays\n",
        "collated_csvprep['AssayPromiscuity_Primary'] = AssayPromiscuityPrimary\n",
        "collated_csvprep['APP %'] = APPpercentage\n",
        "collated_csvprep['TargetPromiscuity_Primary'] = TargetPromiscuityPrimary\n",
        "collated_csvprep['TPP %'] = TPPpercentage\n",
        "collated_csvprep['#ConfirmatoryAssays'] =  NumConfirmatoryAssays\n",
        "collated_csvprep['AssayPromiscuity_Confirmatory'] = AssayPromiscuityConfirmatory\n",
        "collated_csvprep['APC %'] = APCpercentage\n",
        "collated_csvprep['TargetPromiscuity_Confirmatory'] = TargetPromiscuityConfirmatory\n",
        "collated_csvprep['TPC %'] = TPCpercentage\n",
        "collated_csvprep['PhenolCount'] = phenolcount_Jasial['PhenolCount'].tolist()\n"
      ],
      "metadata": {
        "id": "H3EMdpPtht4T"
      },
      "execution_count": 73,
      "outputs": []
    },
    {
      "cell_type": "code",
      "source": [
        "collated_csvprep.to_csv('gdrive/My Drive/Colab Notebooks/collated_promiscuity_phenolcount_.csv', index = False)"
      ],
      "metadata": {
        "id": "tbeCoPpBsPj9"
      },
      "execution_count": 74,
      "outputs": []
    }
  ]
}