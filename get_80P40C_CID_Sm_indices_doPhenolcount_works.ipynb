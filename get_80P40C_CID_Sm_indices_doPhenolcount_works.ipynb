{
  "nbformat": 4,
  "nbformat_minor": 0,
  "metadata": {
    "colab": {
      "provenance": [],
      "authorship_tag": "ABX9TyMqVSEE9e0m47o/HEwODPMT",
      "include_colab_link": true
    },
    "kernelspec": {
      "name": "python3",
      "display_name": "Python 3"
    },
    "language_info": {
      "name": "python"
    }
  },
  "cells": [
    {
      "cell_type": "markdown",
      "metadata": {
        "id": "view-in-github",
        "colab_type": "text"
      },
      "source": [
        "<a href=\"https://colab.research.google.com/github/rick-phyto/cheminformatics/blob/main/get_80P40C_CID_Sm_indices_doPhenolcount_works.ipynb\" target=\"_parent\"><img src=\"https://colab.research.google.com/assets/colab-badge.svg\" alt=\"Open In Colab\"/></a>"
      ]
    },
    {
      "cell_type": "code",
      "execution_count": null,
      "metadata": {
        "id": "MJV7axC1BjkW"
      },
      "outputs": [],
      "source": [
        "\n",
        "from google.colab import drive #new for csv\n",
        "drive.mount('/content/gdrive') #new for csv\n",
        "\n",
        "\n",
        "import pandas as pd\n",
        "\n",
        "!pip install rdkit\n",
        "\n",
        "from rdkit import Chem\n",
        "from rdkit.Chem import Draw\n",
        "from rdkit.Chem.Draw import IPythonConsole\n",
        "from rdkit.Chem import Descriptors\n",
        "from rdkit.Chem import AllChem\n",
        "from rdkit import DataStructs\n",
        "import numpy as np\n",
        "\n",
        "#import requests\n",
        "#from bs4 import BeautifulSoup #no longer necessary since we aren't parsing xml\n",
        "#import re"
      ]
    },
    {
      "cell_type": "code",
      "source": [
        "#these are sorted lists with no duplicates - try a binary search from python recipes\n",
        "\n",
        "def binarySearch(alist, item):\n",
        "    first = 0\n",
        "    last = len(alist)-1\n",
        "    found = False\n",
        "\n",
        "    while first<=last and not found:\n",
        "        pos = 0\n",
        "        midpoint = (first + last)//2\n",
        "        if alist[midpoint] == item:\n",
        "            pos = midpoint\n",
        "            found = True\n",
        "        else:\n",
        "            if item < alist[midpoint]:\n",
        "                last = midpoint-1\n",
        "            else:\n",
        "                first = midpoint+1\n",
        "    return (pos, found)"
      ],
      "metadata": {
        "id": "jYsA1WMWIy0-"
      },
      "execution_count": null,
      "outputs": []
    },
    {
      "cell_type": "code",
      "source": [
        "JasialIndices=pd.read_csv('gdrive/My Drive/Colab Notebooks/JasialToPubchem-indices.csv') #has a header field 'cid'\n",
        "JasialIndices.head"
      ],
      "metadata": {
        "id": "YIcCrfVdDSBt"
      },
      "execution_count": null,
      "outputs": []
    },
    {
      "cell_type": "code",
      "source": [
        "df_firstn_cids = pd.DataFrame()\n",
        "\n",
        "#this seems to work really well and very memory efficiently for some reason =) (Only 1 GB used =) )\n",
        "df_firstn_cids = pd.read_csv('gdrive/My Drive/Colab Notebooks/CID-SMILES', header = None, sep='\\t', usecols=[0], nrows=31000000) #can change nrows to 31000000 ; save RAM\n",
        "df_firstn_cids.shape"
      ],
      "metadata": {
        "id": "8wRQLo9NFOJ8",
        "colab": {
          "base_uri": "https://localhost:8080/"
        },
        "outputId": "5016d08f-469c-42ab-afb5-cd6a30cd8e49"
      },
      "execution_count": null,
      "outputs": [
        {
          "output_type": "execute_result",
          "data": {
            "text/plain": [
              "(31000000, 1)"
            ]
          },
          "metadata": {},
          "execution_count": 4
        }
      ]
    },
    {
      "cell_type": "code",
      "source": [
        "pubchem_activecids_list = df_firstn_cids[0].tolist() #at 4.2GB RAM by end of this line #2.4GB when using 37M nrows\n",
        "len(pubchem_activecids_list)"
      ],
      "metadata": {
        "colab": {
          "base_uri": "https://localhost:8080/"
        },
        "id": "cctHBJrbG5AR",
        "outputId": "70e599e5-7992-4084-9d29-84e77b6a5bfb"
      },
      "execution_count": null,
      "outputs": [
        {
          "output_type": "execute_result",
          "data": {
            "text/plain": [
              "31000000"
            ]
          },
          "metadata": {},
          "execution_count": 5
        }
      ]
    },
    {
      "cell_type": "code",
      "source": [
        "#get the indices of pubchem_activecids with values matching JasialIndices\n",
        "#for cid_iterator in JasialIndices\n",
        "JasialIndices_list = JasialIndices['cid'].values.tolist()"
      ],
      "metadata": {
        "id": "PRcrLo_ZH6el"
      },
      "execution_count": null,
      "outputs": []
    },
    {
      "cell_type": "code",
      "source": [
        "df_firstn_smiles = pd.read_csv('gdrive/My Drive/Colab Notebooks/CID-SMILES', header = None, sep='\\t', usecols=[1], nrows=31000000)"
      ],
      "metadata": {
        "id": "ykmAMnXbq4AM"
      },
      "execution_count": null,
      "outputs": []
    },
    {
      "cell_type": "code",
      "source": [
        "df_firstn_smiles[1].iloc[3]"
      ],
      "metadata": {
        "colab": {
          "base_uri": "https://localhost:8080/",
          "height": 35
        },
        "id": "SXzYslU9rSr6",
        "outputId": "b50d5000-865c-4551-8d2f-640a2a18278e"
      },
      "execution_count": null,
      "outputs": [
        {
          "output_type": "execute_result",
          "data": {
            "text/plain": [
              "'CC(CN)O'"
            ],
            "application/vnd.google.colaboratory.intrinsic+json": {
              "type": "string"
            }
          },
          "metadata": {},
          "execution_count": 10
        }
      ]
    },
    {
      "cell_type": "code",
      "source": [
        "#wow - a million takes just six seconds to run.\n",
        "relevant_cid_smiles_indices = []\n",
        "Number_of_phenols_list = []\n",
        "JasialIndices_activecid_list = []\n",
        "\n",
        "#organic subset heavy atoms in SMILES\n",
        "boron = 'B'; nitrogen = 'N'; phophorus = 'P'; sulfur = 'S';\n",
        "fluorine = 'F'; chlorine = 'Cl'; bromine = 'Br'; iodine = 'I';\n",
        "iron = '[Fe]'; zinc = '[Zn]'; potassium = '[K]'; calcium = '[Ca]';\n",
        "magnesium = '[Mg]'; sodium = '[Na]'; lithium = '[Li]';\n",
        "\n",
        "\n",
        "for iterator in JasialIndices_list:\n",
        "  outtest = binarySearch(pubchem_activecids_list,iterator)\n",
        "  if(outtest[1]):\n",
        "    relevant_cid_smiles_indices.append(outtest[0])\n",
        "\n",
        "    smiles_test = df_firstn_smiles[1].iloc[outtest[0]]\n",
        "    \n",
        "    #implement non-CHO atom filter here. \n",
        "    #code for filtering non-CHO atoms\n",
        "    if (boron in smiles_test) or (nitrogen in smiles_test) or (phosphorus in smiles_test) \\\n",
        "    or (sulfur in smiles_test) or (fluorine in smiles_test) or (chlorine in smiles_test) \\\n",
        "    or (bromine in smiles_test) or (iodine in smiles_test) or (iron in smiles_test) \\\n",
        "    or (zinc in smiles_test) or (potassium in smiles_test) or (calcium in smiles_test) \\\n",
        "    or (magnesium in smiles_test) or (sodium in smiles_test) or (lithium in smiles_test):\n",
        "      #do nothing\n",
        "      pass \n",
        "    else:\n",
        "      #continue to phenolcounting\n",
        "\n",
        "      chemical_mol = Chem.MolFromSmiles(smiles_test)   #smiles)\n",
        "\n",
        "      Num_phenols = Chem.Fragments.fr_phenol(chemical_mol)\n",
        "      Number_of_phenols_list.append(Num_phenols)\n",
        "\n",
        "      JasialIndices_activecid_list.append(iterator) #save only cids present in the current (2023) CID-SMILES dataset\n",
        "    #else:\n",
        "     #relevant_cid_smiles_indices.append(None)\n",
        "\n",
        "#~1 minute 43 s of execution\n",
        "#~10 s of execution if heavy atom filters applied.\n",
        "\n",
        "\n",
        "len(Number_of_phenols_list) \n"
      ],
      "metadata": {
        "colab": {
          "base_uri": "https://localhost:8080/"
        },
        "id": "mu0XqnxNK7NW",
        "outputId": "33af28d9-1317-49cf-b3d2-d2bcadc47a92"
      },
      "execution_count": null,
      "outputs": [
        {
          "output_type": "execute_result",
          "data": {
            "text/plain": [
              "5521"
            ]
          },
          "metadata": {},
          "execution_count": 79
        }
      ]
    },
    {
      "cell_type": "code",
      "source": [
        "len(JasialIndices_activecid_list)\n",
        "#now save Jasial CID numbers & phenolcount results side by side in a DataFrame, and write to a csv. (Should we also save SMILES string col?)\n",
        "#was 5521 without expanded atom filter list Also 5521 with expanded atom filter list.\n",
        "new_columns = ['CID', 'PhenolCount', 'SMILES']\n",
        "df_phenolcount_cid_result = pd.DataFrame(columns = new_columns)\n",
        "df_phenolcount_cid_result['PhenolCount'] = Number_of_phenols_list\n",
        "df_phenolcount_cid_result['CID'] = JasialIndices_activecid_list\n",
        "df_phenolcount_cid_result.head\n"
      ],
      "metadata": {
        "id": "1P8y78qgwVdI"
      },
      "execution_count": null,
      "outputs": []
    },
    {
      "cell_type": "code",
      "source": [
        "df_phenolcount_cid_result.to_csv('gdrive/My Drive/Colab Notebooks/cids_phenolcount.csv', index = False)\n",
        "#also created _noOrtho_Hbond file"
      ],
      "metadata": {
        "id": "BqhkhrE4FoO6"
      },
      "execution_count": null,
      "outputs": []
    },
    {
      "cell_type": "code",
      "source": [
        "#certain heavy atom detect exercise\n",
        "boron = 'B'; nitrogen = 'N'; phosphorus = 'P'; sulfur = 'S';\n",
        "fluorine = 'F'; chlorine = 'Cl'; bromine = 'Br'; iodine = 'I'\n",
        "\n",
        "smiles_test = 'CC1C(C(C(C(O1)OClC2C(C(C(C(O2)OC3=CC(=C4C(=O)CC(OC4=C3)C5=CC(=C(C=C5)OC)O)O)O)O)O)O)O)O'\n",
        "\n",
        "if (boron in smiles_test) or (nitrogen in smiles_test) or (phosphorus in smiles_test) \\\n",
        "    or (sulfur in smiles_test) or (fluorine in smiles_test) or (chlorine in smiles_test) \\\n",
        "    or (bromine in smiles_test) or (iodine in smiles_test):\n",
        "  print(\"present\")\n",
        "else:\n",
        "  print(\"not present\")"
      ],
      "metadata": {
        "colab": {
          "base_uri": "https://localhost:8080/"
        },
        "id": "_4TT2Ny32eky",
        "outputId": "e9b94b80-dd4c-4303-f049-7556f8923552"
      },
      "execution_count": null,
      "outputs": [
        {
          "output_type": "stream",
          "name": "stdout",
          "text": [
            "present\n"
          ]
        }
      ]
    },
    {
      "cell_type": "markdown",
      "source": [
        "Total active CIDs in CID_SMILES from JasialIndices is 330991 of 345207, or 95.9%.   \n",
        "\n",
        "Following is relevant to this point onward only:\n",
        "Using 'None' to fill in the missing places. Need this to result in a blank cell in the csv - like \" ,, \" (two consecutive commas)."
      ],
      "metadata": {
        "id": "BIVYziC2RqHd"
      }
    },
    {
      "cell_type": "code",
      "source": [
        "pd_phenols = pd.DataFrame(Number_of_phenols)\n",
        "JasialIndices_list"
      ],
      "metadata": {
        "id": "1aX7f7Sxxxdv"
      },
      "execution_count": null,
      "outputs": []
    },
    {
      "cell_type": "code",
      "source": [
        " df_csv_prep = pd.DataFrame(relevant_cid_smiles_indices)"
      ],
      "metadata": {
        "id": "lmOdtpGRWZpM"
      },
      "execution_count": null,
      "outputs": []
    },
    {
      "cell_type": "code",
      "source": [
        "#becomes float here\n",
        "df_csv_prep.head"
      ],
      "metadata": {
        "id": "zhVbmtSLcVsA"
      },
      "execution_count": null,
      "outputs": []
    },
    {
      "cell_type": "code",
      "source": [
        "#and write that list of indices into a fresh csv. (not the greatest filename chosen here I'll grant)\n",
        "df_csv_prep.to_csv('gdrive/My Drive/Colab Notebooks/relevant_cid_smiles_indices_noblanks.csv', sep=\",\", header=False)"
      ],
      "metadata": {
        "id": "Ic07rFYMXD_o"
      },
      "execution_count": null,
      "outputs": []
    }
  ]
}